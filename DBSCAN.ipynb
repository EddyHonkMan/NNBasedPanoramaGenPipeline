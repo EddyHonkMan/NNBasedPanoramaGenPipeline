{
 "cells": [
  {
   "cell_type": "code",
   "execution_count": 1,
   "metadata": {
    "id": "VQF9cOrF-EH-",
    "pycharm": {
     "name": "#%%\n"
    }
   },
   "outputs": [],
   "source": [
    "import os\n",
    "import time\n",
    "import math\n",
    "import cv2 as cv\n",
    "import numpy as np\n",
    "import matplotlib.pyplot as plt\n",
    "from scipy.stats import mode\n",
    "from sklearn.cluster import KMeans\n",
    "from tqdm import tqdm\n",
    "import seaborn as sns\n",
    "import pandas as pd"
   ]
  },
  {
   "cell_type": "code",
   "execution_count": 2,
   "outputs": [],
   "source": [
    "# initialise stream from video\n",
    "frames = []\n",
    "dir_path = 'videos'\n",
    "filename = 'SAL.mp4'\n",
    "cap = cv.VideoCapture(os.path.join(dir_path, filename))\n",
    "ret, prvs = cap.read()\n",
    "frames.append(prvs)\n",
    "\n",
    "# main loop\n",
    "count = 0\n",
    "flows = []\n",
    "while True:\n",
    "    # read a new frame\n",
    "    ret, nxt = cap.read()\n",
    "    \n",
    "    if not ret or count == 5:\n",
    "        break\n",
    "    else:\n",
    "        count += 1\n",
    "    frames.append(nxt)\n",
    "        \n",
    "    # if the image is colored\n",
    "    if len(prvs.shape) == 3:\n",
    "        prvs_gray = cv.cvtColor(prvs.copy(), cv.COLOR_BGR2GRAY)\n",
    "        next_gray = cv.cvtColor(nxt.copy(), cv.COLOR_BGR2GRAY)\n",
    "    else:\n",
    "        prvs_gray = prvs.copy()\n",
    "        next_gray = nxt.copy()\n",
    "\n",
    "    # calculate optical flow\n",
    "    flow = cv.calcOpticalFlowFarneback(prvs_gray, next_gray, None, 0.5, 3, 16, 3, 5, 1.2, 0)\n",
    "    flows.append(flow)\n",
    "    prvs = nxt.copy()"
   ],
   "metadata": {
    "collapsed": false,
    "pycharm": {
     "name": "#%%\n"
    }
   }
  },
  {
   "cell_type": "code",
   "execution_count": 3,
   "outputs": [],
   "source": [
    "# round flows to the nearest integer\n",
    "flows = np.rint(flows).astype(np.int32)"
   ],
   "metadata": {
    "collapsed": false,
    "pycharm": {
     "name": "#%%\n"
    }
   }
  },
  {
   "cell_type": "code",
   "execution_count": 4,
   "outputs": [],
   "source": [
    "def get_macroblocks_vectors(flow, macroblock_size):\n",
    "    width = len(flow[0])\n",
    "    height = len(flow)\n",
    "\n",
    "    macroblocks = np.zeros(\n",
    "        (height // macroblock_size + int(height % macroblock_size != 0),\n",
    "        width // macroblock_size + int(width % macroblock_size != 0),\n",
    "                            2))\n",
    "    print(macroblocks.shape)\n",
    "    for y in range(0, height , macroblock_size):\n",
    "        for x in range(0, width, macroblock_size):\n",
    "\n",
    "            bw = macroblock_size if x + macroblock_size <= width else width - x\n",
    "            bh = macroblock_size if y + macroblock_size <= height else height - y\n",
    "            # current block\n",
    "            cur_block = np.array([ i[x:x+bw] for i in flow[y:y + bh]])\n",
    "            # get mean vector\n",
    "            # flatten current block to make process easier\n",
    "            mean = cur_block.reshape(-1, cur_block.shape[-1]).mean(axis = 0)\n",
    "            macroblocks[y//macroblock_size + int(y % macroblock_size != 0)][x//macroblock_size + int(x % macroblock_size != 0)] = mean\n",
    "\n",
    "    return macroblocks\n",
    "# flow0_macroblock = get_macroblocks_vectors(flows[-1], 16)\n",
    "# flow0_macroblock.shape"
   ],
   "metadata": {
    "collapsed": false,
    "pycharm": {
     "name": "#%%\n"
    }
   }
  },
  {
   "cell_type": "code",
   "execution_count": 5,
   "outputs": [
    {
     "name": "stdout",
     "output_type": "stream",
     "text": [
      "(68, 120, 2)\n"
     ]
    }
   ],
   "source": [
    "# convert pixel flow to block flow\n",
    "block_flow = get_macroblocks_vectors(flows[-1], 16)"
   ],
   "metadata": {
    "collapsed": false,
    "pycharm": {
     "name": "#%%\n"
    }
   }
  },
  {
   "cell_type": "code",
   "execution_count": 6,
   "outputs": [],
   "source": [
    "from sklearn.cluster import DBSCAN\n",
    "\n",
    "# total_inliers = np.array([tuple(inlier) for inlier in flows[-1].reshape(-1, flows[-1].shape[-1])])\n",
    "# total_k_means = KMeans(n_clusters=2, random_state=0).fit(total_inliers)\n",
    "# algorithm = {“lloyd”, “elkan”, “auto”, “full”}\n",
    "blocks_inliers = np.array([tuple(inlier) for inlier in block_flow.reshape(-1, block_flow.shape[-1])])\n",
    "blocks_k_means = DBSCAN(eps=0.1, min_samples=4).fit(blocks_inliers)"
   ],
   "metadata": {
    "collapsed": false,
    "pycharm": {
     "name": "#%%\n"
    }
   }
  },
  {
   "cell_type": "code",
   "execution_count": 15,
   "outputs": [],
   "source": [
    "from sklearn.neighbors import NearestNeighbors\n",
    "# n_neighbors = 5 as kneighbors function returns distance of point to itself (i.e. first column will be zeros)\n",
    "nbrs = NearestNeighbors(n_neighbors=5).fit(blocks_inliers)\n",
    "# Find the k-neighbors of a point\n",
    "neigh_dist, neigh_ind = nbrs.kneighbors(blocks_inliers)\n",
    "# sort the neighbor distances (lengths to points) in ascending order\n",
    "# axis = 0 represents sort along first axis i.e. sort along row\n",
    "sort_neigh_dist = np.sort(neigh_dist, axis=0)"
   ],
   "metadata": {
    "collapsed": false,
    "pycharm": {
     "name": "#%%\n"
    }
   }
  },
  {
   "cell_type": "code",
   "execution_count": 16,
   "outputs": [
    {
     "data": {
      "text/plain": "<Figure size 640x480 with 1 Axes>",
      "image/png": "[encoded data removed]"
     },
     "metadata": {},
     "output_type": "display_data"
    }
   ],
   "source": [
    "import matplotlib.pyplot as plt\n",
    "k_dist = sort_neigh_dist[:, 4]\n",
    "plt.plot(k_dist)\n",
    "plt.axhline(y=0.1, linewidth=1, linestyle='dashed', color='k')\n",
    "plt.ylabel(\"k-NN distance\")\n",
    "plt.xlabel(\"Sorted observations (4th NN)\")\n",
    "plt.ylim([0, 1])\n",
    "plt.show()"
   ],
   "metadata": {
    "collapsed": false,
    "pycharm": {
     "name": "#%%\n"
    }
   }
  },
  {
   "cell_type": "code",
   "execution_count": 9,
   "outputs": [
    {
     "data": {
      "text/plain": "array([0, 0, 0, ..., 0, 0, 0], dtype=int64)"
     },
     "execution_count": 9,
     "metadata": {},
     "output_type": "execute_result"
    }
   ],
   "source": [
    "blocks_k_means.labels_"
   ],
   "metadata": {
    "collapsed": false,
    "pycharm": {
     "name": "#%%\n"
    }
   }
  },
  {
   "cell_type": "code",
   "execution_count": 7,
   "outputs": [],
   "source": [
    "# frame must be the prev frame of label\n",
    "def separate(label, frame, block_flow_width, block_size):\n",
    "    foreground = np.ndarray(shape=frames[0].shape, dtype=np.uint8)\n",
    "    foreground.fill(255)\n",
    "    background = foreground.copy()\n",
    "\n",
    "    for i in range(len(label)):\n",
    "        # get the block position\n",
    "        block_y = i // block_flow_width\n",
    "        block_x = i % block_flow_width\n",
    "        for y in range(block_y * block_size, min((block_y + 1) * block_size, frame.shape[0])):\n",
    "            for x in range(block_x * block_size, min((block_x + 1) * block_size, frame.shape[1])):\n",
    "                if label[i] ==  - 1:\n",
    "                    foreground[y][x] = frame[y][x]\n",
    "                else:\n",
    "                    background[y][x] = frame[y][x]\n",
    "\n",
    "\n",
    "    return foreground, background\n",
    "\n",
    "foreground, background = separate(blocks_k_means.labels_, frames[-2], block_flow.shape[1], 16)"
   ],
   "metadata": {
    "collapsed": false,
    "pycharm": {
     "name": "#%%\n"
    }
   }
  },
  {
   "cell_type": "code",
   "execution_count": 8,
   "outputs": [
    {
     "data": {
      "text/plain": "-1"
     },
     "execution_count": 8,
     "metadata": {},
     "output_type": "execute_result"
    }
   ],
   "source": [
    "cv.imshow('Frame',foreground)\n",
    "cv.waitKey(0)\n",
    "cv.destroyAllWindows()\n",
    "cv.waitKey(1)"
   ],
   "metadata": {
    "collapsed": false,
    "pycharm": {
     "name": "#%%\n"
    }
   }
  },
  {
   "cell_type": "code",
   "execution_count": null,
   "outputs": [],
   "source": [
    "cv.imshow('Frame',background)\n",
    "cv.waitKey(0)\n",
    "cv.destroyAllWindows()\n",
    "cv.waitKey(1)"
   ],
   "metadata": {
    "collapsed": false,
    "pycharm": {
     "name": "#%%\n"
    }
   }
  },
  {
   "cell_type": "code",
   "execution_count": 7,
   "outputs": [
    {
     "data": {
      "text/plain": "<Figure size 1000x500 with 1 Axes>",
      "image/png": "[encoded data removed]"
     },
     "metadata": {},
     "output_type": "display_data"
    }
   ],
   "source": [
    "# Error vs num_of_clusters (for KMeans)\n",
    "from sklearn.cluster import KMeans\n",
    "\n",
    "blocks_inliers = np.array([tuple(inlier) for inlier in block_flow.reshape(-1, block_flow.shape[-1])])\n",
    "\n",
    "Error =[]\n",
    "for i in range(1, 11):\n",
    "    kmeans = KMeans(n_clusters = i).fit(blocks_inliers)\n",
    "    kmeans.fit(blocks_inliers)\n",
    "    Error.append(kmeans.inertia_)\n",
    "\n",
    "plt.figure(figsize=(10, 5))\n",
    "plt.plot(range(1, 11), Error)\n",
    "plt.title('Elbow method')\n",
    "plt.xlabel('No of clusters')\n",
    "plt.ylabel('Error')\n",
    "plt.show()"
   ],
   "metadata": {
    "collapsed": false,
    "pycharm": {
     "name": "#%%\n"
    }
   }
  },
  {
   "cell_type": "code",
   "execution_count": 54,
   "metadata": {
    "collapsed": false,
    "pycharm": {
     "name": "#%%\n"
    }
   },
   "outputs": [
    {
     "data": {
      "text/plain": [
       "-1"
      ]
     },
     "execution_count": 54,
     "metadata": {},
     "output_type": "execute_result"
    }
   ],
   "source": [
    "cv.imshow('Frame',foreground)\n",
    "cv.waitKey(0)\n",
    "cv.destroyAllWindows()\n",
    "cv.waitKey(1)"
   ]
  },
  {
   "cell_type": "code",
   "execution_count": 44,
   "metadata": {},
   "outputs": [
    {
     "data": {
      "text/plain": [
       "-1"
      ]
     },
     "execution_count": 44,
     "metadata": {},
     "output_type": "execute_result"
    }
   ],
   "source": [
    "cv.imshow('Frame',background)\n",
    "cv.waitKey(0)\n",
    "cv.destroyAllWindows()\n",
    "cv.waitKey(1)"
   ]
  },
  {
   "cell_type": "code",
   "execution_count": null,
   "metadata": {},
   "outputs": [],
   "source": []
  }
 ],
 "metadata": {
  "colab": {
   "provenance": []
  },
  "kernelspec": {
   "display_name": "Python 3.9.10 ('venv': venv)",
   "language": "python",
   "name": "python3"
  },
  "language_info": {
   "codemirror_mode": {
    "name": "ipython",
    "version": 3
   },
   "file_extension": ".py",
   "mimetype": "text/x-python",
   "name": "python",
   "nbconvert_exporter": "python",
   "pygments_lexer": "ipython3",
   "version": "3.9.10"
  },
  "vscode": {
   "interpreter": {
    "hash": "bb9995fa6e5a08fb4984e2f657538094a2495da5042c1874d3f3df1ab13461dc"
   }
  }
 },
 "nbformat": 4,
 "nbformat_minor": 1
}